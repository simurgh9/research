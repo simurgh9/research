{
 "cells": [
  {
   "cell_type": "code",
   "execution_count": 2,
   "id": "b0c3f360",
   "metadata": {},
   "outputs": [],
   "source": [
    "A = [[1, 0, 0],\n",
    "     [0, 1, 0],\n",
    "     [0, 0, 1],\n",
    "     [1000000, 1414213, 1999998]]\n",
    "B = [[2, 0, 0, 0, 0, 89],\n",
    "     [0, 2, 0, 0, 0, 243],\n",
    "     [0, 0, 2, 0, 0, 212],\n",
    "     [0, 0, 0, 2, 0, 150],\n",
    "     [0, 0, 0, 0, 2, 245],\n",
    "     [1, 1, 1, 1, 1, 546]]\n",
    "A = matrix(A).T  # taking the transpose\n",
    "B = matrix(B)"
   ]
  },
  {
   "cell_type": "markdown",
   "id": "ca83e5fc",
   "metadata": {},
   "source": [
    "Bellow is an example of the LLL or $L^3$ algorithm in SageMath. Note that contrary to the literature where $\\delta = 3/4$ here we have $\\delta=0.99$ by default."
   ]
  },
  {
   "cell_type": "code",
   "execution_count": 3,
   "id": "14169b83",
   "metadata": {},
   "outputs": [
    {
     "data": {
      "text/plain": [
       "[-1  1 -1 -1 -2 -6]\n",
       "[ 1 -1 -1  1 -2 -4]\n",
       "[-1 -1 -1  1  4 -6]\n",
       "[ 1  1  1  1  0 -6]\n",
       "[-1 -1  1  1 -2  0]\n",
       "[ 0 -1  2 -2  0 -3]"
      ]
     },
     "execution_count": 3,
     "metadata": {},
     "output_type": "execute_result"
    }
   ],
   "source": [
    "B.LLL(delta=0.75).T"
   ]
  },
  {
   "cell_type": "code",
   "execution_count": 5,
   "id": "6a0b8256",
   "metadata": {},
   "outputs": [
    {
     "data": {
      "text/plain": [
       "[  -2 -167 -854]\n",
       "[   0 -408  577]\n",
       "[   1  372   19]\n",
       "[  -2  352  863]"
      ]
     },
     "execution_count": 5,
     "metadata": {},
     "output_type": "execute_result"
    }
   ],
   "source": [
    "A.LLL().T"
   ]
  },
  {
   "cell_type": "markdown",
   "id": "ad5038d2",
   "metadata": {},
   "source": [
    "Bellow we show how to orthogonalise a basis while also obtaining the gram-schmidt coefficient matrix."
   ]
  },
  {
   "cell_type": "code",
   "execution_count": 13,
   "id": "effc05fe",
   "metadata": {},
   "outputs": [
    {
     "data": {
      "text/plain": [
       "[   0    0    1]\n",
       "[   0    1  1/3]\n",
       "[   1  1/2 -1/3]\n",
       "[   1 -1/2  1/3]"
      ]
     },
     "execution_count": 13,
     "metadata": {},
     "output_type": "execute_result"
    }
   ],
   "source": [
    "from sage.modules.misc import gram_schmidt\n",
    "\n",
    "U = [[0, 0, 1], [0, 1, 1], [1, 1, 0], [1, 0, 0]]\n",
    "U = matrix(U).T\n",
    "G, Mu = gram_schmidt([vector(v) for v in U])\n",
    "matrix(G).T"
   ]
  },
  {
   "cell_type": "code",
   "execution_count": 14,
   "id": "c1bb0735",
   "metadata": {},
   "outputs": [
    {
     "data": {
      "text/plain": [
       "[  0   0   0]\n",
       "[1/2   0   0]\n",
       "[  0 2/3   0]"
      ]
     },
     "execution_count": 14,
     "metadata": {},
     "output_type": "execute_result"
    }
   ],
   "source": [
    "Mu"
   ]
  }
 ],
 "metadata": {
  "kernelspec": {
   "display_name": "SageMath 10.0",
   "language": "sage",
   "name": "sagemath-10.0"
  },
  "language_info": {
   "codemirror_mode": {
    "name": "ipython",
    "version": 3
   },
   "file_extension": ".py",
   "mimetype": "text/x-python",
   "name": "python",
   "nbconvert_exporter": "python",
   "pygments_lexer": "ipython3",
   "version": "3.11.1"
  }
 },
 "nbformat": 4,
 "nbformat_minor": 5
}
